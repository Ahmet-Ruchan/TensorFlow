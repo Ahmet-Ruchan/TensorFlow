{
 "cells": [
  {
   "cell_type": "code",
   "execution_count": 1,
   "id": "initial_id",
   "metadata": {
    "collapsed": true,
    "ExecuteTime": {
     "end_time": "2023-08-16T05:52:52.110035900Z",
     "start_time": "2023-08-16T05:52:50.266798900Z"
    }
   },
   "outputs": [],
   "source": [
    "import tensorflow as tf\n",
    "import numpy as np\n",
    "import pandas as pd"
   ]
  },
  {
   "cell_type": "markdown",
   "source": [
    "### Creat tensors with tf.constant()"
   ],
   "metadata": {
    "collapsed": false
   },
   "id": "e8a705a1f94174a1"
  },
  {
   "cell_type": "code",
   "execution_count": 2,
   "outputs": [
    {
     "name": "stdout",
     "output_type": "stream",
     "text": [
      "tf.Tensor(7, shape=(), dtype=int32)\n",
      "0\n"
     ]
    }
   ],
   "source": [
    "scalar = tf.constant(7)\n",
    "print(scalar)\n",
    "print(scalar.ndim)"
   ],
   "metadata": {
    "collapsed": false,
    "ExecuteTime": {
     "end_time": "2023-08-16T05:52:52.131960800Z",
     "start_time": "2023-08-16T05:52:52.100575500Z"
    }
   },
   "id": "b3d7e1e2f8d638b4"
  },
  {
   "cell_type": "code",
   "execution_count": 3,
   "outputs": [
    {
     "name": "stdout",
     "output_type": "stream",
     "text": [
      "tf.Tensor([10 10], shape=(2,), dtype=int32)\n",
      "1\n"
     ]
    }
   ],
   "source": [
    "# Vektör oluşturma\n",
    "vector = tf.constant([10, 10])\n",
    "print(vector)\n",
    "print(vector.ndim) #Vektörün boyutu"
   ],
   "metadata": {
    "collapsed": false,
    "ExecuteTime": {
     "end_time": "2023-08-16T05:52:52.208793300Z",
     "start_time": "2023-08-16T05:52:52.132961200Z"
    }
   },
   "id": "e0f7277ca3c6da3"
  },
  {
   "cell_type": "code",
   "execution_count": 4,
   "outputs": [
    {
     "name": "stdout",
     "output_type": "stream",
     "text": [
      "tf.Tensor(\n",
      "[[10  7]\n",
      " [ 7 10]], shape=(2, 2), dtype=int32)\n",
      "2\n"
     ]
    }
   ],
   "source": [
    "# Matrix oluşturma\n",
    "matrix = tf.constant([[10, 7],\n",
    "                     [7, 10]])\n",
    "\n",
    "print(matrix)\n",
    "print(matrix.ndim)"
   ],
   "metadata": {
    "collapsed": false,
    "ExecuteTime": {
     "end_time": "2023-08-16T05:52:52.219786400Z",
     "start_time": "2023-08-16T05:52:52.149960600Z"
    }
   },
   "id": "4c296769d7187c8c"
  },
  {
   "cell_type": "code",
   "execution_count": 5,
   "outputs": [
    {
     "name": "stdout",
     "output_type": "stream",
     "text": [
      "tf.Tensor(\n",
      "[[[ 1  2  3]\n",
      "  [ 4  5  6]]\n",
      "\n",
      " [[ 7  8  9]\n",
      "  [10 11 12]]\n",
      "\n",
      " [[13 14 15]\n",
      "  [16 17 18]]], shape=(3, 2, 3), dtype=int32)\n",
      "3\n"
     ]
    }
   ],
   "source": [
    "# Tensor oluşturma\n",
    "tensor = tf.constant([[[1, 2, 3],\n",
    "                       [4, 5, 6]],\n",
    "                      [[7, 8, 9],\n",
    "                       [10, 11, 12]],\n",
    "                      [[13, 14, 15],\n",
    "                       [16, 17, 18]]])\n",
    "\n",
    "print(tensor)\n",
    "print(tensor.ndim)"
   ],
   "metadata": {
    "collapsed": false,
    "ExecuteTime": {
     "end_time": "2023-08-16T05:52:52.220746700Z",
     "start_time": "2023-08-16T05:52:52.166060900Z"
    }
   },
   "id": "12acee07b0a21137"
  },
  {
   "cell_type": "markdown",
   "source": [
    "### Creat tensors with tf.variable()"
   ],
   "metadata": {
    "collapsed": false
   },
   "id": "43f8cf81082ab661"
  },
  {
   "cell_type": "code",
   "execution_count": 6,
   "outputs": [
    {
     "data": {
      "text/plain": "(<tf.Variable 'Variable:0' shape=(2,) dtype=int32, numpy=array([10,  7])>,\n <tf.Tensor: shape=(2,), dtype=int32, numpy=array([10,  7])>)"
     },
     "execution_count": 6,
     "metadata": {},
     "output_type": "execute_result"
    }
   ],
   "source": [
    "changeable_tensor = tf.Variable([10, 7])\n",
    "unchangeable_tensor = tf.constant([10, 7])\n",
    "\n",
    "changeable_tensor, unchangeable_tensor"
   ],
   "metadata": {
    "collapsed": false,
    "ExecuteTime": {
     "end_time": "2023-08-16T05:52:52.232795100Z",
     "start_time": "2023-08-16T05:52:52.181787900Z"
    }
   },
   "id": "3582238ff2223eeb"
  },
  {
   "cell_type": "code",
   "execution_count": 7,
   "outputs": [
    {
     "ename": "TypeError",
     "evalue": "'ResourceVariable' object does not support item assignment",
     "output_type": "error",
     "traceback": [
      "\u001B[1;31m---------------------------------------------------------------------------\u001B[0m",
      "\u001B[1;31mTypeError\u001B[0m                                 Traceback (most recent call last)",
      "Cell \u001B[1;32mIn[7], line 1\u001B[0m\n\u001B[1;32m----> 1\u001B[0m \u001B[43mchangeable_tensor\u001B[49m\u001B[43m[\u001B[49m\u001B[38;5;241;43m0\u001B[39;49m\u001B[43m]\u001B[49m \u001B[38;5;241m=\u001B[39m \u001B[38;5;241m9\u001B[39m\n",
      "\u001B[1;31mTypeError\u001B[0m: 'ResourceVariable' object does not support item assignment"
     ]
    }
   ],
   "source": [
    "changeable_tensor[0] = 9"
   ],
   "metadata": {
    "collapsed": false,
    "ExecuteTime": {
     "end_time": "2023-08-16T05:52:52.823860400Z",
     "start_time": "2023-08-16T05:52:52.196795600Z"
    }
   },
   "id": "5bb6645da2f9b14"
  },
  {
   "cell_type": "code",
   "execution_count": 8,
   "outputs": [
    {
     "data": {
      "text/plain": "<tf.Variable 'UnreadVariable' shape=(2,) dtype=int32, numpy=array([9, 7])>"
     },
     "execution_count": 8,
     "metadata": {},
     "output_type": "execute_result"
    }
   ],
   "source": [
    "changeable_tensor[0].assign(9)"
   ],
   "metadata": {
    "collapsed": false,
    "ExecuteTime": {
     "end_time": "2023-08-16T05:53:20.794068900Z",
     "start_time": "2023-08-16T05:53:20.768178900Z"
    }
   },
   "id": "e697ceb6d9dc4c7b"
  },
  {
   "cell_type": "code",
   "execution_count": 9,
   "outputs": [
    {
     "ename": "AttributeError",
     "evalue": "'tensorflow.python.framework.ops.EagerTensor' object has no attribute 'assign'",
     "output_type": "error",
     "traceback": [
      "\u001B[1;31m---------------------------------------------------------------------------\u001B[0m",
      "\u001B[1;31mAttributeError\u001B[0m                            Traceback (most recent call last)",
      "Cell \u001B[1;32mIn[9], line 1\u001B[0m\n\u001B[1;32m----> 1\u001B[0m \u001B[43munchangeable_tensor\u001B[49m\u001B[43m[\u001B[49m\u001B[38;5;241;43m0\u001B[39;49m\u001B[43m]\u001B[49m\u001B[38;5;241;43m.\u001B[39;49m\u001B[43massign\u001B[49m(\u001B[38;5;241m9\u001B[39m)\n",
      "File \u001B[1;32m~\\Desktop\\pythonProject\\venv\\lib\\site-packages\\tensorflow\\python\\framework\\ops.py:430\u001B[0m, in \u001B[0;36mTensor.__getattr__\u001B[1;34m(self, name)\u001B[0m\n\u001B[0;32m    421\u001B[0m \u001B[38;5;28;01mif\u001B[39;00m name \u001B[38;5;129;01min\u001B[39;00m {\u001B[38;5;124m\"\u001B[39m\u001B[38;5;124mT\u001B[39m\u001B[38;5;124m\"\u001B[39m, \u001B[38;5;124m\"\u001B[39m\u001B[38;5;124mastype\u001B[39m\u001B[38;5;124m\"\u001B[39m, \u001B[38;5;124m\"\u001B[39m\u001B[38;5;124mravel\u001B[39m\u001B[38;5;124m\"\u001B[39m, \u001B[38;5;124m\"\u001B[39m\u001B[38;5;124mtranspose\u001B[39m\u001B[38;5;124m\"\u001B[39m, \u001B[38;5;124m\"\u001B[39m\u001B[38;5;124mreshape\u001B[39m\u001B[38;5;124m\"\u001B[39m, \u001B[38;5;124m\"\u001B[39m\u001B[38;5;124mclip\u001B[39m\u001B[38;5;124m\"\u001B[39m, \u001B[38;5;124m\"\u001B[39m\u001B[38;5;124msize\u001B[39m\u001B[38;5;124m\"\u001B[39m,\n\u001B[0;32m    422\u001B[0m             \u001B[38;5;124m\"\u001B[39m\u001B[38;5;124mtolist\u001B[39m\u001B[38;5;124m\"\u001B[39m, \u001B[38;5;124m\"\u001B[39m\u001B[38;5;124mdata\u001B[39m\u001B[38;5;124m\"\u001B[39m}:\n\u001B[0;32m    423\u001B[0m   \u001B[38;5;66;03m# TODO(wangpeng): Export the enable_numpy_behavior knob\u001B[39;00m\n\u001B[0;32m    424\u001B[0m   \u001B[38;5;28;01mraise\u001B[39;00m \u001B[38;5;167;01mAttributeError\u001B[39;00m(\n\u001B[0;32m    425\u001B[0m       \u001B[38;5;124mf\u001B[39m\u001B[38;5;124m\"\u001B[39m\u001B[38;5;132;01m{\u001B[39;00m\u001B[38;5;28mtype\u001B[39m(\u001B[38;5;28mself\u001B[39m)\u001B[38;5;241m.\u001B[39m\u001B[38;5;18m__name__\u001B[39m\u001B[38;5;132;01m}\u001B[39;00m\u001B[38;5;124m object has no attribute \u001B[39m\u001B[38;5;124m'\u001B[39m\u001B[38;5;132;01m{\u001B[39;00mname\u001B[38;5;132;01m}\u001B[39;00m\u001B[38;5;124m'\u001B[39m\u001B[38;5;124m. \u001B[39m\u001B[38;5;124m\"\u001B[39m \u001B[38;5;241m+\u001B[39m \u001B[38;5;124m\"\"\"\u001B[39m\n\u001B[0;32m    426\u001B[0m \u001B[38;5;124m    If you are looking for numpy-related methods, please run the following:\u001B[39m\n\u001B[0;32m    427\u001B[0m \u001B[38;5;124m    from tensorflow.python.ops.numpy_ops import np_config\u001B[39m\n\u001B[0;32m    428\u001B[0m \u001B[38;5;124m    np_config.enable_numpy_behavior()\u001B[39m\n\u001B[0;32m    429\u001B[0m \u001B[38;5;124m  \u001B[39m\u001B[38;5;124m\"\"\"\u001B[39m)\n\u001B[1;32m--> 430\u001B[0m \u001B[38;5;28;43mself\u001B[39;49m\u001B[38;5;241;43m.\u001B[39;49m\u001B[38;5;21;43m__getattribute__\u001B[39;49m\u001B[43m(\u001B[49m\u001B[43mname\u001B[49m\u001B[43m)\u001B[49m\n",
      "\u001B[1;31mAttributeError\u001B[0m: 'tensorflow.python.framework.ops.EagerTensor' object has no attribute 'assign'"
     ]
    }
   ],
   "source": [
    "unchangeable_tensor[0].assign(9)"
   ],
   "metadata": {
    "collapsed": false,
    "ExecuteTime": {
     "end_time": "2023-08-16T05:53:21.587262700Z",
     "start_time": "2023-08-16T05:53:21.435253300Z"
    }
   },
   "id": "d56d12fa775a63cf"
  },
  {
   "cell_type": "markdown",
   "source": [
    "### Creat two random (but the same) tensors"
   ],
   "metadata": {
    "collapsed": false
   },
   "id": "4fab845f1c4db35"
  },
  {
   "cell_type": "code",
   "execution_count": 10,
   "outputs": [
    {
     "name": "stdout",
     "output_type": "stream",
     "text": [
      "tf.Tensor(\n",
      "[[-0.7565803  -0.06854702]\n",
      " [ 0.07595026 -1.2573844 ]\n",
      " [-0.23193763 -1.8107855 ]], shape=(3, 2), dtype=float32)\n",
      "tf.Tensor(\n",
      "[[-0.7565803  -0.06854702]\n",
      " [ 0.07595026 -1.2573844 ]\n",
      " [-0.23193763 -1.8107855 ]], shape=(3, 2), dtype=float32)\n"
     ]
    },
    {
     "data": {
      "text/plain": "<tf.Tensor: shape=(3, 2), dtype=bool, numpy=\narray([[ True,  True],\n       [ True,  True],\n       [ True,  True]])>"
     },
     "execution_count": 10,
     "metadata": {},
     "output_type": "execute_result"
    }
   ],
   "source": [
    "random_1 = tf.random.Generator.from_seed(42) # Bu, belirli bir başlangıç değeri (seed) kullanarak bir rastgele sayı üreteci oluşturmanızı sağlar. Başlangıç değeri, aynı başlangıç değerini kullanan durumlarda bile tekrarlanabilir sonuçlar elde etmenizi sağlar. Eğer aynı başlangıç değerini verirseniz, üretilen rastgele sayılar aynı olacaktır. Bu örnekte, başlangıç değeri olarak 42 kullanılmış.\n",
    "random_1 = random_1.normal(shape=(3, 2))\n",
    "print(random_1)\n",
    "\n",
    "random_2 = tf.random.Generator.from_seed(42)\n",
    "random_2 = random_2.normal(shape=(3, 2))\n",
    "print(random_2)\n",
    "\n",
    "# Eşitler mi?\n",
    "random_1 == random_2 #True"
   ],
   "metadata": {
    "collapsed": false,
    "ExecuteTime": {
     "end_time": "2023-08-16T05:53:28.734848Z",
     "start_time": "2023-08-16T05:53:28.685549900Z"
    }
   },
   "id": "2f1f9c309ce32545"
  },
  {
   "cell_type": "markdown",
   "source": [
    "### Tensor deki ögelerin sıralarını karıştırma"
   ],
   "metadata": {
    "collapsed": false
   },
   "id": "31e3d750f9adc1b0"
  },
  {
   "cell_type": "code",
   "execution_count": 11,
   "outputs": [
    {
     "name": "stdout",
     "output_type": "stream",
     "text": [
      "tf.Tensor(\n",
      "[[10  7]\n",
      " [ 3  4]\n",
      " [ 2  5]], shape=(3, 2), dtype=int32)\n"
     ]
    }
   ],
   "source": [
    "not_shuffled = tf.constant([[10, 7],\n",
    "                            [3, 4],\n",
    "                            [2, 5]])\n",
    "\n",
    "shuffled = tf.random.shuffle(not_shuffled, seed=10)\n",
    "print(shuffled)"
   ],
   "metadata": {
    "collapsed": false,
    "ExecuteTime": {
     "end_time": "2023-08-16T05:53:29.407709400Z",
     "start_time": "2023-08-16T05:53:29.379206800Z"
    }
   },
   "id": "2800bbef30ba9ed3"
  },
  {
   "cell_type": "markdown",
   "source": [
    "**Exercise:** Write 5 random tensors and shuffle them  "
   ],
   "metadata": {
    "collapsed": false
   },
   "id": "7aa6b729fc8d6b87"
  },
  {
   "cell_type": "code",
   "execution_count": 12,
   "outputs": [
    {
     "name": "stdout",
     "output_type": "stream",
     "text": [
      "tf.Tensor(\n",
      "[[[ 0.07487498 -0.7550695  -0.03832366 -1.0670892 ]\n",
      "  [-0.62793756 -0.631967    0.44106978  0.95002836]\n",
      "  [ 1.7634549   0.24905711 -1.9541459   1.1949075 ]]\n",
      "\n",
      " [[ 0.46439964  2.6252646  -0.73785836  0.47776106]\n",
      "  [-1.3361545  -0.04507286 -1.5074811  -0.37169048]\n",
      "  [ 1.2457341   0.37468094 -1.5002545  -0.56355387]]\n",
      "\n",
      " [[ 0.03452039  0.8649012   0.42233908  0.6068026 ]\n",
      "  [ 0.39116836  0.30241597  0.9103581   0.60433996]\n",
      "  [ 0.8759457   0.9828081   0.8872286   0.37400806]]\n",
      "\n",
      " [[ 0.9630227   0.02081776  0.17390776  0.4517945 ]\n",
      "  [ 0.12394452  0.9529494   0.45991433  0.8429078 ]\n",
      "  [ 0.21090269  0.7726337   0.6636554   0.97207236]]\n",
      "\n",
      " [[ 0.7720417   0.26249492  0.09034479  0.3158425 ]\n",
      "  [ 0.2977147   0.23201895  0.24740744  0.01231241]\n",
      "  [ 0.91350305  0.8175709   0.69252276  0.570261  ]]], shape=(5, 3, 4), dtype=float32)\n"
     ]
    }
   ],
   "source": [
    "tensor1 = tf.random.uniform(shape=(3, 4)) # uniform olması eşit aralıklarla rastgele sayılar üretir\n",
    "tensor2 = tf.random.normal(shape=(3, 4)) # aralıkları tamamen rastgele olan sayılar üretir\n",
    "tensor3 = tf.random.uniform(shape=(3, 4))\n",
    "tensor4 = tf.random.normal(shape=(3, 4))\n",
    "tensor5 = tf.random.uniform(shape=(3, 4))\n",
    "\n",
    "tensors_to_shuffle = [tensor1, tensor2, tensor3, tensor4, tensor5]\n",
    "shuffled_tensors = tf.random.shuffle(tensors_to_shuffle)\n",
    "\n",
    "print(shuffled_tensors)"
   ],
   "metadata": {
    "collapsed": false,
    "ExecuteTime": {
     "end_time": "2023-08-16T05:53:29.789291700Z",
     "start_time": "2023-08-16T05:53:29.741185400Z"
    }
   },
   "id": "15457a70828140bb"
  },
  {
   "cell_type": "markdown",
   "source": [
    "### NumPy array'lerini tensor'a çevirme"
   ],
   "metadata": {
    "collapsed": false
   },
   "id": "1ada0e649ca9d540"
  },
  {
   "cell_type": "code",
   "execution_count": 13,
   "outputs": [
    {
     "name": "stdout",
     "output_type": "stream",
     "text": [
      "[ 1  2  3  4  5  6  7  8  9 10 11 12 13 14 15 16 17 18 19 20 21 22 23 24]\n",
      "tf.Tensor(\n",
      "[[[ 1  2  3  4]\n",
      "  [ 5  6  7  8]\n",
      "  [ 9 10 11 12]]\n",
      "\n",
      " [[13 14 15 16]\n",
      "  [17 18 19 20]\n",
      "  [21 22 23 24]]], shape=(2, 3, 4), dtype=int32)\n"
     ]
    }
   ],
   "source": [
    "numpy_A = np.arange(1, 25, dtype=np.int32) # 24 eleman var [1,24] \n",
    "print(numpy_A)\n",
    "\n",
    "A = tf.constant(numpy_A, shape=(2, 3, 4)) # 2 * 3 * 4 = 24\n",
    "print(A)"
   ],
   "metadata": {
    "collapsed": false,
    "ExecuteTime": {
     "end_time": "2023-08-16T05:53:30.100776800Z",
     "start_time": "2023-08-16T05:53:30.054711400Z"
    }
   },
   "id": "88a918fefdf80103"
  },
  {
   "cell_type": "code",
   "execution_count": 14,
   "outputs": [
    {
     "name": "stdout",
     "output_type": "stream",
     "text": [
      "tf.Tensor(\n",
      "[[[[0. 0. 0. 0. 0.]\n",
      "   [0. 0. 0. 0. 0.]\n",
      "   [0. 0. 0. 0. 0.]\n",
      "   [0. 0. 0. 0. 0.]]\n",
      "\n",
      "  [[0. 0. 0. 0. 0.]\n",
      "   [0. 0. 0. 0. 0.]\n",
      "   [0. 0. 0. 0. 0.]\n",
      "   [0. 0. 0. 0. 0.]]\n",
      "\n",
      "  [[0. 0. 0. 0. 0.]\n",
      "   [0. 0. 0. 0. 0.]\n",
      "   [0. 0. 0. 0. 0.]\n",
      "   [0. 0. 0. 0. 0.]]]\n",
      "\n",
      "\n",
      " [[[0. 0. 0. 0. 0.]\n",
      "   [0. 0. 0. 0. 0.]\n",
      "   [0. 0. 0. 0. 0.]\n",
      "   [0. 0. 0. 0. 0.]]\n",
      "\n",
      "  [[0. 0. 0. 0. 0.]\n",
      "   [0. 0. 0. 0. 0.]\n",
      "   [0. 0. 0. 0. 0.]\n",
      "   [0. 0. 0. 0. 0.]]\n",
      "\n",
      "  [[0. 0. 0. 0. 0.]\n",
      "   [0. 0. 0. 0. 0.]\n",
      "   [0. 0. 0. 0. 0.]\n",
      "   [0. 0. 0. 0. 0.]]]], shape=(2, 3, 4, 5), dtype=float32)\n"
     ]
    }
   ],
   "source": [
    "rank_4_tensor = tf.zeros(shape=(2, 3, 4, 5))\n",
    "print(rank_4_tensor)"
   ],
   "metadata": {
    "collapsed": false,
    "ExecuteTime": {
     "end_time": "2023-08-16T05:53:30.232021300Z",
     "start_time": "2023-08-16T05:53:30.216023400Z"
    }
   },
   "id": "9f3089bb4cce4811"
  },
  {
   "cell_type": "code",
   "execution_count": 15,
   "outputs": [
    {
     "name": "stdout",
     "output_type": "stream",
     "text": [
      "Shape of tensor: (2, 3, 4, 5)\n",
      "Number of dimension (rank): 4\n",
      "Total number of elements in tensor: tf.Tensor(120, shape=(), dtype=int32)\n",
      "Datatype of every element: <dtype: 'float32'>\n",
      "Elements along the 0 axis: 2\n",
      "Elements along  the last axis: 5\n"
     ]
    }
   ],
   "source": [
    "print(\"Shape of tensor:\", rank_4_tensor.shape)\n",
    "print(\"Number of dimension (rank):\", rank_4_tensor.ndim)\n",
    "print(\"Total number of elements in tensor:\", tf.size(rank_4_tensor)) # 2 * 3 * 4 * 5 = 120\n",
    "print(\"Datatype of every element:\", rank_4_tensor.dtype)\n",
    "print(\"Elements along the 0 axis:\", rank_4_tensor.shape[0])\n",
    "print(\"Elements along  the last axis:\", rank_4_tensor.shape[-1])"
   ],
   "metadata": {
    "collapsed": false,
    "ExecuteTime": {
     "end_time": "2023-08-16T05:53:30.389253900Z",
     "start_time": "2023-08-16T05:53:30.374385900Z"
    }
   },
   "id": "4dfd2b0ca153d0a1"
  },
  {
   "cell_type": "markdown",
   "source": [
    "### Indexing tensors"
   ],
   "metadata": {
    "collapsed": false
   },
   "id": "1b5948a6d4c13e5e"
  },
  {
   "cell_type": "code",
   "execution_count": 16,
   "outputs": [
    {
     "data": {
      "text/plain": "<tf.Tensor: shape=(2, 2, 2, 2), dtype=float32, numpy=\narray([[[[0., 0.],\n         [0., 0.]],\n\n        [[0., 0.],\n         [0., 0.]]],\n\n\n       [[[0., 0.],\n         [0., 0.]],\n\n        [[0., 0.],\n         [0., 0.]]]], dtype=float32)>"
     },
     "execution_count": 16,
     "metadata": {},
     "output_type": "execute_result"
    }
   ],
   "source": [
    "rank_4_tensor[:2, :2, :2, :2]"
   ],
   "metadata": {
    "collapsed": false,
    "ExecuteTime": {
     "end_time": "2023-08-16T05:53:30.658602900Z",
     "start_time": "2023-08-16T05:53:30.636243100Z"
    }
   },
   "id": "a6ece7f674d7d184"
  },
  {
   "cell_type": "code",
   "execution_count": 17,
   "outputs": [
    {
     "name": "stdout",
     "output_type": "stream",
     "text": [
      "tf.Tensor(\n",
      "[[[1]\n",
      "  [2]]\n",
      "\n",
      " [[3]\n",
      "  [4]]], shape=(2, 2, 1), dtype=int32)\n"
     ]
    }
   ],
   "source": [
    "# Tensor'a boyut eklemek\n",
    "\n",
    "rank_2_tensor = tf.constant([[1, 2],\n",
    "                            [3, 4]])\n",
    "\n",
    "rank_3_tensor = rank_2_tensor[..., tf.newaxis] # ... -> önceki bütün boyutları kabul et ve newaxis ile yeni boyut ekle\n",
    "print(rank_3_tensor)"
   ],
   "metadata": {
    "collapsed": false,
    "ExecuteTime": {
     "end_time": "2023-08-16T05:53:30.865270300Z",
     "start_time": "2023-08-16T05:53:30.847909300Z"
    }
   },
   "id": "23a5133b31e7744e"
  },
  {
   "cell_type": "code",
   "execution_count": 18,
   "outputs": [
    {
     "name": "stdout",
     "output_type": "stream",
     "text": [
      "tf.Tensor(\n",
      "[[[1]\n",
      "  [2]]\n",
      "\n",
      " [[3]\n",
      "  [4]]], shape=(2, 2, 1), dtype=int32)\n"
     ]
    }
   ],
   "source": [
    "# Başka bir alternatif\n",
    "rank_3_tensor_alternatif =  tf.expand_dims(rank_2_tensor, axis=-1) # -1 çünkü son axis'e ekleyecek\n",
    "print(rank_3_tensor_alternatif)"
   ],
   "metadata": {
    "collapsed": false,
    "ExecuteTime": {
     "end_time": "2023-08-16T05:53:31.017725900Z",
     "start_time": "2023-08-16T05:53:30.998046Z"
    }
   },
   "id": "2f01a187988f0cf8"
  },
  {
   "cell_type": "markdown",
   "source": [
    "### Manipulating tensors"
   ],
   "metadata": {
    "collapsed": false
   },
   "id": "505b1aaa2d0d4a1b"
  },
  {
   "cell_type": "code",
   "execution_count": 19,
   "outputs": [
    {
     "name": "stdout",
     "output_type": "stream",
     "text": [
      "tf.Tensor(\n",
      "[[11 12]\n",
      " [13 14]], shape=(2, 2), dtype=int32)\n",
      "tf.Tensor(\n",
      "[[2 4]\n",
      " [6 8]], shape=(2, 2), dtype=int32)\n",
      "tf.Tensor(\n",
      "[[10 20]\n",
      " [30 40]], shape=(2, 2), dtype=int32)\n",
      "tf.Tensor(\n",
      "[[-9 -8]\n",
      " [-7 -6]], shape=(2, 2), dtype=int32)\n"
     ]
    }
   ],
   "source": [
    "tensor = tf.constant([[1, 2],\n",
    "                      [3, 4]])\n",
    "print(tensor + 10)\n",
    "print(tensor * 2)\n",
    "print(tf.multiply(tensor, 10))\n",
    "print(tensor - 10)"
   ],
   "metadata": {
    "collapsed": false,
    "ExecuteTime": {
     "end_time": "2023-08-16T05:53:31.325461600Z",
     "start_time": "2023-08-16T05:53:31.276047100Z"
    }
   },
   "id": "92f2da60b39e1606"
  },
  {
   "cell_type": "markdown",
   "source": [
    "### Matrix Multiplication"
   ],
   "metadata": {
    "collapsed": false
   },
   "id": "498887b75afeb552"
  },
  {
   "cell_type": "code",
   "execution_count": 20,
   "outputs": [
    {
     "name": "stdout",
     "output_type": "stream",
     "text": [
      "tf.Tensor(\n",
      "[[1 2]\n",
      " [3 4]], shape=(2, 2), dtype=int32) tf.Tensor(\n",
      "[[1 2]\n",
      " [3 4]], shape=(2, 2), dtype=int32)\n",
      "tf.Tensor(\n",
      "[[ 1  4]\n",
      " [ 9 16]], shape=(2, 2), dtype=int32)\n",
      "tf.Tensor(\n",
      "[[ 7 10]\n",
      " [15 22]], shape=(2, 2), dtype=int32)\n"
     ]
    }
   ],
   "source": [
    "print(tensor, tensor)\n",
    "print(tensor * tensor)\n",
    "#matmul ve multiply farklı şeyler\n",
    "print(tf.matmul(tensor, tensor))"
   ],
   "metadata": {
    "collapsed": false,
    "ExecuteTime": {
     "end_time": "2023-08-16T05:53:31.555221200Z",
     "start_time": "2023-08-16T05:53:31.509071100Z"
    }
   },
   "id": "54e1641f3f968c9b"
  },
  {
   "cell_type": "markdown",
   "source": [
    "### Changing the datatype of a tensor "
   ],
   "metadata": {
    "collapsed": false
   },
   "id": "64bb5d3d118e22fe"
  },
  {
   "cell_type": "code",
   "execution_count": 26,
   "outputs": [
    {
     "name": "stdout",
     "output_type": "stream",
     "text": [
      "<dtype: 'float32'>\n",
      "<dtype: 'int32'>\n",
      "<dtype: 'int16'>\n"
     ]
    }
   ],
   "source": [
    "# change from float32 to int16\n",
    "\n",
    "B = tf.constant([1,3, 2.4])\n",
    "print(B.dtype) # float32\n",
    "C = tf.constant([1, 4])\n",
    "print(C.dtype) #int32\n",
    "\n",
    "D = tf.cast(B, dtype=tf.int16)\n",
    "print(D.dtype)"
   ],
   "metadata": {
    "collapsed": false,
    "ExecuteTime": {
     "end_time": "2023-08-16T06:12:46.262265400Z",
     "start_time": "2023-08-16T06:12:46.237991300Z"
    }
   },
   "id": "5098c5ce2734d532"
  },
  {
   "cell_type": "markdown",
   "source": [
    "### Aggregating tensors"
   ],
   "metadata": {
    "collapsed": false
   },
   "id": "470433b8aca55286"
  },
  {
   "cell_type": "code",
   "execution_count": 30,
   "outputs": [
    {
     "name": "stdout",
     "output_type": "stream",
     "text": [
      "tf.Tensor([-7 -1], shape=(2,), dtype=int32)\n",
      "tf.Tensor([7 1], shape=(2,), dtype=int32)\n"
     ]
    }
   ],
   "source": [
    "# Mutlak değer alma\n",
    "D = tf.constant([-7, -1])\n",
    "print(D)\n",
    "\n",
    "E = tf.abs(D) # Mutlak değer alma\n",
    "print(E)"
   ],
   "metadata": {
    "collapsed": false,
    "ExecuteTime": {
     "end_time": "2023-08-16T06:22:43.734185600Z",
     "start_time": "2023-08-16T06:22:43.696827100Z"
    }
   },
   "id": "8447c99397a25b75"
  },
  {
   "cell_type": "code",
   "execution_count": 31,
   "outputs": [
    {
     "name": "stdout",
     "output_type": "stream",
     "text": [
      "tf.Tensor(\n",
      "[44  2 23 78 64 71 92 14  6 21 84 32 33 31 53 33 42 22 32 53 90 29 20 26\n",
      " 27 38 81 94 78 63 63 79 65 54 66 12 86 13 16 14 26 67 17 92 69 49 33 42\n",
      " 49 82], shape=(50,), dtype=int32)\n"
     ]
    }
   ],
   "source": [
    "# Create a random tensor 0-100 size:50\n",
    "E = tf.constant(np.random.randint(0, 100, size=50))\n",
    "print(E)"
   ],
   "metadata": {
    "collapsed": false,
    "ExecuteTime": {
     "end_time": "2023-08-16T06:25:56.019129300Z",
     "start_time": "2023-08-16T06:25:55.998487200Z"
    }
   },
   "id": "b8c6b96f01ee4999"
  },
  {
   "cell_type": "code",
   "execution_count": 42,
   "outputs": [
    {
     "name": "stdout",
     "output_type": "stream",
     "text": [
      "tf.Tensor(2, shape=(), dtype=int32)\n",
      "tf.Tensor(94, shape=(), dtype=int32)\n",
      "tf.Tensor(2370, shape=(), dtype=int32)\n",
      "tf.Tensor(703.28, shape=(), dtype=float32)\n",
      "tf.Tensor(26.519428, shape=(), dtype=float32)\n"
     ]
    }
   ],
   "source": [
    "# min değeri bulma\n",
    "print(tf.reduce_min(E))\n",
    "\n",
    "# max değeri bulma\n",
    "print(tf.reduce_max(E))\n",
    "\n",
    "# toplamını bulma\n",
    "print(tf.reduce_sum(E))\n",
    "\n",
    "# Varyans ve standart sapma hesaplarken tensor'un float tipinde olması gerekiyor\n",
    "# Bu yüzden önce float tipine çevirmemiz lazım\n",
    "\n",
    "# varyans bulma\n",
    "new_E = tf.cast(E, dtype=tf.float32)\n",
    "varyans = tf.math.reduce_variance(new_E)\n",
    "print(varyans)\n",
    "\n",
    "# Standart sapma bulma\n",
    "print(tf.math.sqrt(varyans)) # Standart sapma varyansın kareköküdür"
   ],
   "metadata": {
    "collapsed": false,
    "ExecuteTime": {
     "end_time": "2023-08-16T07:04:02.323349400Z",
     "start_time": "2023-08-16T07:04:02.289376400Z"
    }
   },
   "id": "cd0c96cb1c6169bd"
  },
  {
   "cell_type": "markdown",
   "source": [
    "### Find the positional max and min"
   ],
   "metadata": {
    "collapsed": false
   },
   "id": "e01cfb22002d7131"
  },
  {
   "cell_type": "code",
   "execution_count": 45,
   "outputs": [
    {
     "data": {
      "text/plain": "<tf.Tensor: shape=(50,), dtype=float32, numpy=\narray([0.95227146, 0.67740774, 0.79531825, 0.75578177, 0.4759556 ,\n       0.6310148 , 0.18602037, 0.11430776, 0.3362218 , 0.723335  ,\n       0.21919966, 0.8573376 , 0.82392037, 0.59541273, 0.00296271,\n       0.24725473, 0.5060741 , 0.36158872, 0.04483843, 0.97216606,\n       0.82838845, 0.41458404, 0.601666  , 0.33958685, 0.5731027 ,\n       0.23625553, 0.67478454, 0.00732017, 0.02091265, 0.9618796 ,\n       0.6345031 , 0.22629452, 0.651536  , 0.8670281 , 0.25453997,\n       0.27258146, 0.4647777 , 0.29214978, 0.21008277, 0.42609882,\n       0.93323886, 0.4174106 , 0.7148676 , 0.5662477 , 0.30075896,\n       0.8497542 , 0.45311093, 0.00433195, 0.09081542, 0.28513503],\n      dtype=float32)>"
     },
     "execution_count": 45,
     "metadata": {},
     "output_type": "execute_result"
    }
   ],
   "source": [
    "F = tf.random.uniform(shape=[50], seed=42)\n",
    "F"
   ],
   "metadata": {
    "collapsed": false,
    "ExecuteTime": {
     "end_time": "2023-08-16T07:22:18.639285200Z",
     "start_time": "2023-08-16T07:22:18.593848100Z"
    }
   },
   "id": "5843a260c8f5b6fd"
  },
  {
   "cell_type": "code",
   "execution_count": 50,
   "outputs": [
    {
     "name": "stdout",
     "output_type": "stream",
     "text": [
      "tf.Tensor(19, shape=(), dtype=int64)\n",
      "tf.Tensor(0.97216606, shape=(), dtype=float32)\n",
      "tf.Tensor(0.97216606, shape=(), dtype=float32)\n",
      "tf.Tensor(True, shape=(), dtype=bool)\n"
     ]
    }
   ],
   "source": [
    "# Find positional max\n",
    "print(tf.argmax(F)) # index değerini verir\n",
    "print(F[19])\n",
    "print(F[tf.argmax(F)])\n",
    "\n",
    "# kontrol edelim\n",
    "print(F[19] == F[tf.argmax(F)]) #True"
   ],
   "metadata": {
    "collapsed": false,
    "ExecuteTime": {
     "end_time": "2023-08-16T07:25:29.508386200Z",
     "start_time": "2023-08-16T07:25:29.487450900Z"
    }
   },
   "id": "bb88b050f11968eb"
  },
  {
   "cell_type": "code",
   "execution_count": 52,
   "outputs": [
    {
     "name": "stdout",
     "output_type": "stream",
     "text": [
      "tf.Tensor(14, shape=(), dtype=int64)\n",
      "tf.Tensor(0.0029627085, shape=(), dtype=float32)\n",
      "tf.Tensor(0.0029627085, shape=(), dtype=float32)\n",
      "tf.Tensor(True, shape=(), dtype=bool)\n"
     ]
    }
   ],
   "source": [
    "# Find positional min\n",
    "print(tf.argmin(F)) # index değerini verir\n",
    "print(F[14])\n",
    "print(F[tf.argmin(F)])\n",
    "\n",
    "# kontrol edelim\n",
    "print(F[14] == F[tf.argmin(F)]) #True"
   ],
   "metadata": {
    "collapsed": false,
    "ExecuteTime": {
     "end_time": "2023-08-16T07:29:29.547920300Z",
     "start_time": "2023-08-16T07:29:29.527511700Z"
    }
   },
   "id": "400c7e1e0038f1aa"
  },
  {
   "cell_type": "markdown",
   "source": [
    "### Squeezing a tensor (removing all single dimensions)"
   ],
   "metadata": {
    "collapsed": false
   },
   "id": "545620db66af5d0c"
  },
  {
   "cell_type": "code",
   "execution_count": 53,
   "outputs": [
    {
     "data": {
      "text/plain": "<tf.Tensor: shape=(1, 1, 1, 1, 50), dtype=float32, numpy=\narray([[[[[0.13859022, 0.677364  , 0.57776976, 0.6769707 , 0.85529864,\n           0.26307547, 0.16501617, 0.42464197, 0.56730914, 0.3437599 ,\n           0.44374728, 0.11031771, 0.53476083, 0.05655551, 0.8946748 ,\n           0.6490574 , 0.6352521 , 0.24645054, 0.67025137, 0.904937  ,\n           0.6629704 , 0.6767161 , 0.5502415 , 0.38707435, 0.50407314,\n           0.95736146, 0.6753317 , 0.9438201 , 0.14085579, 0.15945208,\n           0.87157416, 0.29930174, 0.01602423, 0.54037833, 0.6520896 ,\n           0.87387013, 0.10270858, 0.86105835, 0.12225938, 0.20637023,\n           0.93473125, 0.4714148 , 0.6826582 , 0.57907426, 0.63363206,\n           0.4832946 , 0.5214349 , 0.18398428, 0.5597439 , 0.73508775]]]]],\n      dtype=float32)>"
     },
     "execution_count": 53,
     "metadata": {},
     "output_type": "execute_result"
    }
   ],
   "source": [
    "G = tf.constant(tf.random.uniform(shape=[50], seed=42), shape=(1, 1, 1, 1, 50))\n",
    "G"
   ],
   "metadata": {
    "collapsed": false,
    "ExecuteTime": {
     "end_time": "2023-08-16T07:34:03.457492900Z",
     "start_time": "2023-08-16T07:34:03.407056600Z"
    }
   },
   "id": "ff6e032548605fd7"
  },
  {
   "cell_type": "code",
   "execution_count": 54,
   "outputs": [
    {
     "name": "stdout",
     "output_type": "stream",
     "text": [
      "tf.Tensor(\n",
      "[0.13859022 0.677364   0.57776976 0.6769707  0.85529864 0.26307547\n",
      " 0.16501617 0.42464197 0.56730914 0.3437599  0.44374728 0.11031771\n",
      " 0.53476083 0.05655551 0.8946748  0.6490574  0.6352521  0.24645054\n",
      " 0.67025137 0.904937   0.6629704  0.6767161  0.5502415  0.38707435\n",
      " 0.50407314 0.95736146 0.6753317  0.9438201  0.14085579 0.15945208\n",
      " 0.87157416 0.29930174 0.01602423 0.54037833 0.6520896  0.87387013\n",
      " 0.10270858 0.86105835 0.12225938 0.20637023 0.93473125 0.4714148\n",
      " 0.6826582  0.57907426 0.63363206 0.4832946  0.5214349  0.18398428\n",
      " 0.5597439  0.73508775], shape=(50,), dtype=float32)\n",
      "(50,)\n"
     ]
    }
   ],
   "source": [
    "G_squeezed = tf.squeeze(G) # tensor içindeki bütün tek boyutları siliyor\n",
    "print(G_squeezed)\n",
    "print(G_squeezed.shape)"
   ],
   "metadata": {
    "collapsed": false,
    "ExecuteTime": {
     "end_time": "2023-08-16T07:35:51.399448500Z",
     "start_time": "2023-08-16T07:35:51.377077100Z"
    }
   },
   "id": "813cc9c2b3edc1d"
  },
  {
   "cell_type": "markdown",
   "source": [
    "### One-hot encoding"
   ],
   "metadata": {
    "collapsed": false
   },
   "id": "eb282b28dfbffbb7"
  },
  {
   "cell_type": "markdown",
   "source": [
    "One-hot encoding, kategorik verileri sayısal verilere dönüştürmek için kullanılan bir işlemdir. Makine öğrenimi modelleri genellikle sayısal verilerle çalışırken, kategorik veriler (örneğin, renkler, kategoriler, etiketler vb.) doğrudan kullanılamaz. Bu nedenle, kategorik verileri sayısal biçime dönüştürmek için one-hot encoding yöntemi kullanılır.\n",
    "\n",
    "One-hot encoding, her kategoriye ait bir sütun oluşturarak verileri temsil eder. Bir kategorinin varlığı durumunda ilgili sütuna 1 değeri atanırken, diğer sütunlara 0 değeri atanır. Bu şekilde, her örnek farklı kategorilere ait 1 ve geri kalan tüm sütunlarda 0 içeren bir vektör olarak temsil edilir.\n",
    "\n",
    "Örnek olarak, \"Renk\" adında bir kategorik özniteliğiniz olduğunu ve üç renk seçeneğinizin (kırmızı, yeşil, mavi) olduğunu düşünelim. One-hot encoding ile bu renkleri temsil eden vektörler şu şekilde olabilir:\n",
    "\n",
    "Kırmızı: [1, 0, 0]\n",
    "Yeşil: [0, 1, 0]\n",
    "Mavi: [0, 0, 1]\n",
    "\n",
    "Bu yöntem, modelin kategorik verileri daha iyi anlamasını sağlar ve kategoriler arasındaki ilişkileri doğru bir şekilde yorumlamasına yardımcı olur."
   ],
   "metadata": {
    "collapsed": false
   },
   "id": "68732256ec193f7b"
  },
  {
   "cell_type": "code",
   "execution_count": 57,
   "outputs": [
    {
     "name": "stdout",
     "output_type": "stream",
     "text": [
      "   Renk_Kırmızı  Renk_Mavi  Renk_Yeşil\n",
      "0          True      False       False\n",
      "1         False      False        True\n",
      "2         False       True       False\n",
      "3          True      False       False\n"
     ]
    }
   ],
   "source": [
    "data = {'Renk': ['Kırmızı', 'Yeşil', 'Mavi', 'Kırmızı']}\n",
    "df = pd.DataFrame(data)\n",
    "\n",
    "# One-hot encoding işlemi\n",
    "encoded_df = pd.get_dummies(df, columns=['Renk'])\n",
    "print(encoded_df)"
   ],
   "metadata": {
    "collapsed": false,
    "ExecuteTime": {
     "end_time": "2023-08-16T08:08:55.642101100Z",
     "start_time": "2023-08-16T08:08:55.595080500Z"
    }
   },
   "id": "909da989056c9c2d"
  },
  {
   "cell_type": "code",
   "execution_count": 55,
   "outputs": [
    {
     "data": {
      "text/plain": "<tf.Tensor: shape=(4, 4), dtype=float32, numpy=\narray([[1., 0., 0., 0.],\n       [0., 1., 0., 0.],\n       [0., 0., 1., 0.],\n       [0., 0., 0., 1.]], dtype=float32)>"
     },
     "execution_count": 55,
     "metadata": {},
     "output_type": "execute_result"
    }
   ],
   "source": [
    "some_list = [0, 1, 2, 3] # could be red, green, blue, purple\n",
    "\n",
    "# one-hot encode our list of indices\n",
    "tf.one_hot(some_list, depth=4)\n"
   ],
   "metadata": {
    "collapsed": false,
    "ExecuteTime": {
     "start_time": "2023-08-16T08:05:28.601924400Z"
    }
   },
   "id": "402721bffa15285b"
  },
  {
   "cell_type": "code",
   "execution_count": 59,
   "outputs": [
    {
     "data": {
      "text/plain": "<tf.Tensor: shape=(4, 4), dtype=string, numpy=\narray([[b'x', b'.', b'.', b'.'],\n       [b'.', b'x', b'.', b'.'],\n       [b'.', b'.', b'x', b'.'],\n       [b'.', b'.', b'.', b'x']], dtype=object)>"
     },
     "execution_count": 59,
     "metadata": {},
     "output_type": "execute_result"
    }
   ],
   "source": [
    "# Örnek one hot encoding\n",
    "tf.one_hot(some_list, depth=4, on_value=\"x\", off_value=\".\")"
   ],
   "metadata": {
    "collapsed": false,
    "ExecuteTime": {
     "end_time": "2023-08-16T08:12:16.395442200Z",
     "start_time": "2023-08-16T08:12:16.364365900Z"
    }
   },
   "id": "c079a26e1d9bc580"
  },
  {
   "cell_type": "markdown",
   "source": [
    "### Squaring, log, square root"
   ],
   "metadata": {
    "collapsed": false
   },
   "id": "bb5636d5cb7550b1"
  },
  {
   "cell_type": "code",
   "execution_count": 66,
   "outputs": [
    {
     "name": "stdout",
     "output_type": "stream",
     "text": [
      "tf.Tensor([1 2 3 4 5 6 7 8 9], shape=(9,), dtype=int32)\n",
      "tf.Tensor([ 1  4  9 16 25 36 49 64 81], shape=(9,), dtype=int32)\n",
      "tf.Tensor(\n",
      "[1.        1.4142135 1.7320508 2.        2.236068  2.4494898 2.6457512\n",
      " 2.828427  3.       ], shape=(9,), dtype=float32)\n",
      "tf.Tensor(\n",
      "[0.        0.6931472 1.0986123 1.3862944 1.609438  1.7917595 1.9459102\n",
      " 2.0794415 2.1972246], shape=(9,), dtype=float32)\n"
     ]
    }
   ],
   "source": [
    "H = tf.range(1, 10)\n",
    "print(H)\n",
    "\n",
    "# Karesini alalım\n",
    "print(tf.square(H))\n",
    "\n",
    "# karekök alma\n",
    "print(tf.math.sqrt(tf.cast(H, dtype=float)))\n",
    "\n",
    "# logaritma\n",
    "print(tf.math.log(tf.cast(H, dtype=float)))\n"
   ],
   "metadata": {
    "collapsed": false,
    "ExecuteTime": {
     "end_time": "2023-08-16T08:18:09.936836700Z",
     "start_time": "2023-08-16T08:18:09.917514800Z"
    }
   },
   "id": "8c40d8056afc2813"
  },
  {
   "cell_type": "markdown",
   "source": [
    "### Tensors and NumPy"
   ],
   "metadata": {
    "collapsed": false
   },
   "id": "8ce4e20ce49b655e"
  },
  {
   "cell_type": "code",
   "execution_count": 70,
   "outputs": [
    {
     "name": "stdout",
     "output_type": "stream",
     "text": [
      "tf.Tensor([ 3.  7. 10.], shape=(3,), dtype=float64)\n",
      "[ 3.  7. 10.]\n"
     ]
    }
   ],
   "source": [
    "#numpy array kullanarak tensor oluşturmak\n",
    "J = tf.constant(np.array([3., 7., 10.]))\n",
    "print(J)\n",
    "\n",
    "# Tensoru tekrar numpy array'e çevirmek\n",
    "print(np.array(J))"
   ],
   "metadata": {
    "collapsed": false,
    "ExecuteTime": {
     "end_time": "2023-08-16T08:22:50.346102800Z",
     "start_time": "2023-08-16T08:22:50.318119400Z"
    }
   },
   "id": "a7c6398d1ab45fe"
  }
 ],
 "metadata": {
  "kernelspec": {
   "display_name": "Python 3",
   "language": "python",
   "name": "python3"
  },
  "language_info": {
   "codemirror_mode": {
    "name": "ipython",
    "version": 2
   },
   "file_extension": ".py",
   "mimetype": "text/x-python",
   "name": "python",
   "nbconvert_exporter": "python",
   "pygments_lexer": "ipython2",
   "version": "2.7.6"
  }
 },
 "nbformat": 4,
 "nbformat_minor": 5
}
